{
  "nbformat": 4,
  "nbformat_minor": 0,
  "metadata": {
    "colab": {
      "provenance": []
    },
    "kernelspec": {
      "name": "python3",
      "display_name": "Python 3"
    },
    "language_info": {
      "name": "python"
    }
  },
  "cells": [
    {
      "cell_type": "markdown",
      "source": [
        "1. What are data structures and why are they important?\n",
        " - A data structure is a data organizatio and storage format that is usually chosen for efficient access to data.\n",
        "  Data structure used to store, organize and manipulate the data. without the data structure is difficult to access large amount of data efficiently.\n",
        "\n",
        "2. Explain the difference between mutable and immutable data types with example.\n",
        "  - Mutable data types are those whose value can be modified after creation. such as- list, dictionary\n",
        "  - Immutable data types are those whose value cannot be modified after creation. such as- string , tuples.\n",
        "\n",
        "3. What are the main difference between lists and tuples in python?\n",
        "   -   Lists -  a. lists are mutable data structure.\n",
        "                b. we can access the data or modified the data in list.\n",
        "                c. append, pop, insert functions are executed in lists.\n",
        "                d. It use large storage of data.\n",
        "\n",
        "      tuples - a. tuples are immutable data structure.\n",
        "               b. we cannot access the data or modified the data in tuples.\n",
        "               c. append, pop, insert functions are not executed in tuples.\n",
        "               d. it use less storage of data than lists.\n",
        "\n",
        "4. Describe how dictionaries store data.\n",
        " -  Dictionary is unordered collection of data. It stored data in a key: value forrmat.\n",
        "\n",
        " 5. Why might you use a set instead of a list in python?\n",
        "  - set is a unordered heterogenous type of data structure. It doesnot allow same type of data within it,that's why it occupies less storage of data than lists. But lists are heterogenous type but i allows same data an that's why it use more storage than a set.\n",
        "\n",
        "6. What is a string in python, how is it different from a list?\n",
        " - Strings are basically sequence of characters enclosed in either single quotes or double quotes.\n",
        "  - lists are sequence of values, its value may be a int, float,boolean or string  itself,it represented by '[]' brackets. but string is a sequence of characters that enclosed by a single('') or double (\"\") quotes.\n",
        "\n",
        "7. How do tuples ensure data integrity in python?\n",
        "  - Tuples are immutable data structure. this immutability of tuples doesnot allow any modification of elements wihin it. In this way it ensures data integrity in python.\n",
        "\n",
        "8. What is hash table, and how does it relate to dictionaries in python?\n",
        "  - A hash table is a collection of associated pairs of items where each pair consists of a key and a value.\n",
        "   In dictonary, key and value pair represented by hash table.\n",
        "\n",
        "9. Can lists contain different data types in python?\n",
        "  - Yes, lists contain different data types in python. lists are heerogenous data types, it contains int, boolean, string, float ad list itself within it.\n",
        "\n",
        "10. Explain why strings are immutable i python?\n",
        "   - string are immutable in python means they cannot be changed after are created.String with the same content share storage in a single pool to minimize creatinng a copy of the same value.\n",
        "\n",
        "11. What advantages do dictionaries offer over lists for certain tasks?\n",
        "   - Dictionaries can be used to represent complex data structures, it represented as a key-value pairs.They allow object for used as a key. But lists are heterogenous data structure, they allow objects by indexing method.\n",
        "\n",
        "12. Describe a scenario where using a tuple would be preferable over a list.\n",
        "   - Tuples are immutable data structure that only store data,that does not change the data frequently. But lists are mutable objects that store the data and the data can be modified after creation. so when you have some critical information or records that cannot be modified after creation, there we use tuple.\n",
        "\n",
        "13. How do sets handle duplicate value in python?\n",
        "  - Sets cannot allow duplicate value in it.They are unorganised type of data structure so sets cannot allow any indexing over the elements.\n",
        "\n",
        "14.  How does the 'in' keyword work differently for lists and dictionaries?\n",
        "  - 'in' keyword used as a membership operator, it can check whether an element is present in a lists or tuple or not. So,the meaning is same but implementation is different for lists and dictionaries.\n",
        "\n",
        "15. Can you modify the elements of a tuple? Explain why or why not.\n",
        "  -   No,I cannot modify the element of a tuple. Because tuple is a immutable data structure that cannot be changed the elments within it.\n",
        "\n",
        "\n",
        "16. What is a nested dictionary, and give an example of its use case.\n",
        "  - Nested dictioaries are dictionaries that are stored as values within another dictionary.\n",
        "  - Nested dictioaries are used to store as values within another dictionary.\n",
        "\n",
        "17. Describe the time complexity of accessing elements in a dictionary.\n",
        "  - The time complexity of retrieving a value by its key in a dictioary is O(1). This is because dictionaries use a hash table internally which allows contant time lookup. Hash tables use the hash of the key to find the memory location which enables direct access.\n",
        "\n",
        "18. In what situations are lists preferred over dictionaries?\n",
        "  - For ordered collection and sequence operation, lists are more preferred over dictioaries. Because dictionaries store data randomly, it cannot allow repeated objects.\n",
        "\n",
        "19. Why are dictionaries considered unordered, and how does that affect data retrieval?\n",
        "  - Dictionaries are considered unordered because the elements are not intended to be in order. That's why we cannot access the elements based on theirs position value.\n",
        "\n",
        "20. Explain the difference between a list and a dictionary in terms of data retrieval.\n",
        "  - A list is a organised heterogenous data structure. That's why we access the element based on its position value.\n",
        "\n",
        "  But dictionaries are unorganised heterogenous data structure, it cannot allow repeated value,that's why we cannot access the element based on its position value."
      ],
      "metadata": {
        "id": "7x4vzRyOG3TE"
      }
    },
    {
      "cell_type": "markdown",
      "source": [
        "Practical Question:"
      ],
      "metadata": {
        "id": "6TMDrsl2Zsqe"
      }
    },
    {
      "cell_type": "code",
      "execution_count": null,
      "metadata": {
        "id": "OFJZquEpGr3H"
      },
      "outputs": [],
      "source": [
        "# 1. Write a code to create a string with your name and print it.\n",
        "My_name = \"Soumita Mallick\"\n",
        "Age = 27"
      ]
    },
    {
      "cell_type": "code",
      "source": [
        "My_name"
      ],
      "metadata": {
        "colab": {
          "base_uri": "https://localhost:8080/",
          "height": 36
        },
        "id": "2t9caDACbFGo",
        "outputId": "c3d481a6-e25e-49f5-aaa2-6be39dc3b2e8"
      },
      "execution_count": null,
      "outputs": [
        {
          "output_type": "execute_result",
          "data": {
            "text/plain": [
              "'Soumita Mallick'"
            ],
            "application/vnd.google.colaboratory.intrinsic+json": {
              "type": "string"
            }
          },
          "metadata": {},
          "execution_count": 4
        }
      ]
    },
    {
      "cell_type": "code",
      "source": [
        "Age"
      ],
      "metadata": {
        "colab": {
          "base_uri": "https://localhost:8080/"
        },
        "id": "y2KnVad7bE_m",
        "outputId": "98510724-05ad-4643-e9d4-a8ec3de34df2"
      },
      "execution_count": null,
      "outputs": [
        {
          "output_type": "execute_result",
          "data": {
            "text/plain": [
              "27"
            ]
          },
          "metadata": {},
          "execution_count": 6
        }
      ]
    },
    {
      "cell_type": "code",
      "source": [
        "# 2. Write a code to find the length of the string \"hello world\"\n",
        "a=\"hello world\"\n",
        "len(a)"
      ],
      "metadata": {
        "colab": {
          "base_uri": "https://localhost:8080/"
        },
        "id": "dcM7YqTpbE1f",
        "outputId": "b8f7e8ad-3c45-4451-a7a5-c5c0fb875dde"
      },
      "execution_count": null,
      "outputs": [
        {
          "output_type": "execute_result",
          "data": {
            "text/plain": [
              "11"
            ]
          },
          "metadata": {},
          "execution_count": 7
        }
      ]
    },
    {
      "cell_type": "code",
      "source": [
        "# 3. Write a code to slice the first 3 characters from the string \"python programming\".\n",
        "b=\"python programming\"\n",
        "b[0:3]"
      ],
      "metadata": {
        "colab": {
          "base_uri": "https://localhost:8080/",
          "height": 36
        },
        "id": "Ikdm_F3Xbrnb",
        "outputId": "98e3e895-cbc3-452f-f41d-b53b1eea47b6"
      },
      "execution_count": null,
      "outputs": [
        {
          "output_type": "execute_result",
          "data": {
            "text/plain": [
              "'pyt'"
            ],
            "application/vnd.google.colaboratory.intrinsic+json": {
              "type": "string"
            }
          },
          "metadata": {},
          "execution_count": 8
        }
      ]
    },
    {
      "cell_type": "code",
      "source": [
        "# 4. Write a code to convert the string \"hello\" uppercase.\n",
        "str1 = \"hello\"\n",
        "str2= str1.upper()\n",
        "str2"
      ],
      "metadata": {
        "colab": {
          "base_uri": "https://localhost:8080/",
          "height": 36
        },
        "id": "K440NSsbbrDk",
        "outputId": "f85f8836-c8d8-44ea-96dd-0ba7e8d0c385"
      },
      "execution_count": null,
      "outputs": [
        {
          "output_type": "execute_result",
          "data": {
            "text/plain": [
              "'HELLO'"
            ],
            "application/vnd.google.colaboratory.intrinsic+json": {
              "type": "string"
            }
          },
          "metadata": {},
          "execution_count": 10
        }
      ]
    },
    {
      "cell_type": "code",
      "source": [
        "# 5. Write a code to replace the word \"apple\" with 'orange' in the string \"i like apple.\"\n",
        "my_str = \"I like apple\"\n",
        "my_str.replace(\"apple\",\"orange\")"
      ],
      "metadata": {
        "colab": {
          "base_uri": "https://localhost:8080/",
          "height": 36
        },
        "id": "iJYPC15Qctl5",
        "outputId": "a5278efe-262f-4bd1-fc75-8066c49287f3"
      },
      "execution_count": null,
      "outputs": [
        {
          "output_type": "execute_result",
          "data": {
            "text/plain": [
              "'I like orange'"
            ],
            "application/vnd.google.colaboratory.intrinsic+json": {
              "type": "string"
            }
          },
          "metadata": {},
          "execution_count": 14
        }
      ]
    },
    {
      "cell_type": "code",
      "source": [
        "# 6. Write a code to create a list with numbers 1 to 5 and print it.\n",
        "lst = [1,2,3,4,5]\n",
        "type(lst)"
      ],
      "metadata": {
        "colab": {
          "base_uri": "https://localhost:8080/"
        },
        "id": "1cvS3E-LctSt",
        "outputId": "16b2cc6a-6ab2-4d46-8de2-07c00787fff1"
      },
      "execution_count": null,
      "outputs": [
        {
          "output_type": "execute_result",
          "data": {
            "text/plain": [
              "list"
            ]
          },
          "metadata": {},
          "execution_count": 15
        }
      ]
    },
    {
      "cell_type": "code",
      "source": [
        "# 7. Write a code to append the number 10 to the list[1,2,3,4].\n",
        "lst1= [1,2,3,4]\n",
        "lst1.append(10)\n",
        "lst1"
      ],
      "metadata": {
        "colab": {
          "base_uri": "https://localhost:8080/"
        },
        "id": "ILpHJhCQeDrm",
        "outputId": "fed75bd7-095d-4fa5-b3be-bf170753de1f"
      },
      "execution_count": null,
      "outputs": [
        {
          "output_type": "execute_result",
          "data": {
            "text/plain": [
              "[1, 2, 3, 4, 10]"
            ]
          },
          "metadata": {},
          "execution_count": 16
        }
      ]
    },
    {
      "cell_type": "code",
      "source": [
        "# 8. Write a code to remove the number 3 from the list [1,2,3,4,5]\n",
        "lst2 = [1,2,3,4,5]\n",
        "lst2.remove(3)\n",
        "lst2"
      ],
      "metadata": {
        "colab": {
          "base_uri": "https://localhost:8080/"
        },
        "id": "Y9QYcpkneDnZ",
        "outputId": "ce649846-309f-4dfc-9d30-fe8e770676dc"
      },
      "execution_count": null,
      "outputs": [
        {
          "output_type": "execute_result",
          "data": {
            "text/plain": [
              "[1, 2, 4, 5]"
            ]
          },
          "metadata": {},
          "execution_count": 17
        }
      ]
    },
    {
      "cell_type": "code",
      "source": [
        "# 9. Write a code to access the second element in the list ['a' ,'b', 'c','d']\n",
        "a=['a','b','c','d']\n",
        "a[1]"
      ],
      "metadata": {
        "colab": {
          "base_uri": "https://localhost:8080/",
          "height": 36
        },
        "id": "QbQ-o6uQeDht",
        "outputId": "5e8aa8a0-342a-42fc-d5b6-ee6afb047a2c"
      },
      "execution_count": null,
      "outputs": [
        {
          "output_type": "execute_result",
          "data": {
            "text/plain": [
              "'b'"
            ],
            "application/vnd.google.colaboratory.intrinsic+json": {
              "type": "string"
            }
          },
          "metadata": {},
          "execution_count": 18
        }
      ]
    },
    {
      "cell_type": "code",
      "source": [
        "# 10. Write a code to reverse the list[10,20,30,40,50]\n",
        "\n",
        "list=[10,20,30,40,50]\n",
        "list[::-1]"
      ],
      "metadata": {
        "colab": {
          "base_uri": "https://localhost:8080/"
        },
        "id": "e55Bn43DfWtE",
        "outputId": "8312258f-1d67-44e8-8c9a-b5b55c046b8c"
      },
      "execution_count": null,
      "outputs": [
        {
          "output_type": "execute_result",
          "data": {
            "text/plain": [
              "[50, 40, 30, 20, 10]"
            ]
          },
          "metadata": {},
          "execution_count": 28
        }
      ]
    },
    {
      "cell_type": "code",
      "source": [
        "# 11. Write a code to create a tuple with he elements 100,200,300 and print it.\n",
        "my_tuple= (100,200,300)\n",
        "type(my_tuple)"
      ],
      "metadata": {
        "colab": {
          "base_uri": "https://localhost:8080/"
        },
        "id": "uAV6fYPpfWoX",
        "outputId": "9f99b290-b8d9-4930-88a7-34f6450c5af9"
      },
      "execution_count": null,
      "outputs": [
        {
          "output_type": "execute_result",
          "data": {
            "text/plain": [
              "tuple"
            ]
          },
          "metadata": {},
          "execution_count": 29
        }
      ]
    },
    {
      "cell_type": "code",
      "source": [
        "# 12. Write a code to access the second to lst element of the tuple ('red','green','blue','yellow).\n",
        "tuple1=('red','green','blue','yellow')\n",
        "tuple1[1:]"
      ],
      "metadata": {
        "id": "odxqT7LNfWjo",
        "colab": {
          "base_uri": "https://localhost:8080/"
        },
        "outputId": "c3f5cffc-60be-483f-adae-29ac9620e6fc"
      },
      "execution_count": 1,
      "outputs": [
        {
          "output_type": "execute_result",
          "data": {
            "text/plain": [
              "('green', 'blue', 'yellow')"
            ]
          },
          "metadata": {},
          "execution_count": 1
        }
      ]
    },
    {
      "cell_type": "code",
      "source": [
        "# 13. Write a code to find the minimum number in the tuple (10,20,5,15)\n",
        "t2=(10,20,5,15)"
      ],
      "metadata": {
        "id": "wxswN2FqfWcg",
        "colab": {
          "base_uri": "https://localhost:8080/",
          "height": 176
        },
        "outputId": "3e967eb3-240f-4aed-cec2-87e377123023"
      },
      "execution_count": 8,
      "outputs": [
        {
          "output_type": "error",
          "ename": "AttributeError",
          "evalue": "'builtin_function_or_method' object has no attribute 't2'",
          "traceback": [
            "\u001b[0;31m---------------------------------------------------------------------------\u001b[0m",
            "\u001b[0;31mAttributeError\u001b[0m                            Traceback (most recent call last)",
            "\u001b[0;32m<ipython-input-8-2427551865>\u001b[0m in \u001b[0;36m<cell line: 0>\u001b[0;34m()\u001b[0m\n\u001b[1;32m      1\u001b[0m \u001b[0;31m# 13. Write a code to find the minimum number in the tuple (10,20,5,15)\u001b[0m\u001b[0;34m\u001b[0m\u001b[0;34m\u001b[0m\u001b[0m\n\u001b[1;32m      2\u001b[0m \u001b[0mt2\u001b[0m\u001b[0;34m=\u001b[0m\u001b[0;34m(\u001b[0m\u001b[0;36m10\u001b[0m\u001b[0;34m,\u001b[0m\u001b[0;36m20\u001b[0m\u001b[0;34m,\u001b[0m\u001b[0;36m5\u001b[0m\u001b[0;34m,\u001b[0m\u001b[0;36m15\u001b[0m\u001b[0;34m)\u001b[0m\u001b[0;34m\u001b[0m\u001b[0;34m\u001b[0m\u001b[0m\n\u001b[0;32m----> 3\u001b[0;31m \u001b[0mmin\u001b[0m\u001b[0;34m.\u001b[0m\u001b[0mt2\u001b[0m\u001b[0;34m(\u001b[0m\u001b[0;34m)\u001b[0m\u001b[0;34m\u001b[0m\u001b[0;34m\u001b[0m\u001b[0m\n\u001b[0m",
            "\u001b[0;31mAttributeError\u001b[0m: 'builtin_function_or_method' object has no attribute 't2'"
          ]
        }
      ]
    },
    {
      "cell_type": "code",
      "source": [
        "# 14. Write a code to find the index of the elements \"cat\" in the tuple ('dog','cat','rabbit')\n",
        "a= ('dog','cat','rabbit')\n",
        "a[1]"
      ],
      "metadata": {
        "colab": {
          "base_uri": "https://localhost:8080/",
          "height": 36
        },
        "id": "tzfls6FW6tJy",
        "outputId": "014b3c5d-dade-4069-d638-4483fc38114c"
      },
      "execution_count": 9,
      "outputs": [
        {
          "output_type": "execute_result",
          "data": {
            "text/plain": [
              "'cat'"
            ],
            "application/vnd.google.colaboratory.intrinsic+json": {
              "type": "string"
            }
          },
          "metadata": {},
          "execution_count": 9
        }
      ]
    },
    {
      "cell_type": "code",
      "source": [
        "# 15. Write a code to create a tuple containing three different fruits and check if 'kiwi' is in it.\n",
        "b =(\"apple\",\"banana\",\"kiwi\")\n",
        "\"kiwi\" in b"
      ],
      "metadata": {
        "colab": {
          "base_uri": "https://localhost:8080/"
        },
        "id": "Usv79D7W7bCd",
        "outputId": "66e17cd3-9b6f-4b7d-e37a-89b204242139"
      },
      "execution_count": 14,
      "outputs": [
        {
          "output_type": "execute_result",
          "data": {
            "text/plain": [
              "True"
            ]
          },
          "metadata": {},
          "execution_count": 14
        }
      ]
    },
    {
      "cell_type": "code",
      "source": [
        "# 16. Write a code to create a set with the elements 'a','b','c' and print it.\n",
        "y={'a','b','c'}\n",
        "y"
      ],
      "metadata": {
        "colab": {
          "base_uri": "https://localhost:8080/"
        },
        "id": "4dMsNXL17a90",
        "outputId": "a3f5d55f-a805-4092-afab-bbae795a520d"
      },
      "execution_count": 17,
      "outputs": [
        {
          "output_type": "execute_result",
          "data": {
            "text/plain": [
              "{'a', 'b', 'c'}"
            ]
          },
          "metadata": {},
          "execution_count": 17
        }
      ]
    },
    {
      "cell_type": "code",
      "source": [
        "# 17. Write a code to clear all the elements from the set {1,2,3,4,5}\n",
        "set1 ={1,2,3,4,5}\n",
        "set1.clear()\n",
        "set1"
      ],
      "metadata": {
        "colab": {
          "base_uri": "https://localhost:8080/"
        },
        "id": "4rGLWfKR7a4u",
        "outputId": "cfcf3e6d-ab93-4502-873f-a62af1372b63"
      },
      "execution_count": 19,
      "outputs": [
        {
          "output_type": "execute_result",
          "data": {
            "text/plain": [
              "set()"
            ]
          },
          "metadata": {},
          "execution_count": 19
        }
      ]
    },
    {
      "cell_type": "code",
      "source": [
        "# 18. Write a code to remove the elements 4 from the set {1,2,3,4}\n",
        "set2= {1,2,3,4}\n",
        "set2.remove(4)\n",
        "set2"
      ],
      "metadata": {
        "colab": {
          "base_uri": "https://localhost:8080/"
        },
        "id": "lorCgiaF9Vdv",
        "outputId": "03ab3d9c-4e4c-47d5-e660-cc1f738b5979"
      },
      "execution_count": 21,
      "outputs": [
        {
          "output_type": "execute_result",
          "data": {
            "text/plain": [
              "{1, 2, 3}"
            ]
          },
          "metadata": {},
          "execution_count": 21
        }
      ]
    },
    {
      "cell_type": "code",
      "source": [
        "# 19. Write a code to find the union of two sets {1,2,3} and {2,3,4}.\n",
        "a ={1,2,3}\n",
        "b= {2,3,4}\n",
        "a|b"
      ],
      "metadata": {
        "colab": {
          "base_uri": "https://localhost:8080/"
        },
        "id": "p_X9raiD9xi_",
        "outputId": "f9dea33e-9ff9-4b13-92eb-6d5c8da7c3a3"
      },
      "execution_count": 22,
      "outputs": [
        {
          "output_type": "execute_result",
          "data": {
            "text/plain": [
              "{1, 2, 3, 4}"
            ]
          },
          "metadata": {},
          "execution_count": 22
        }
      ]
    },
    {
      "cell_type": "code",
      "source": [
        "# 20. Write a code to find the intersection of two sets {1,2,3} and {2,3,4}.\n",
        "a= {1,2,3}\n",
        "b= {2,3,4}\n",
        "a & b"
      ],
      "metadata": {
        "colab": {
          "base_uri": "https://localhost:8080/"
        },
        "id": "Z99jQ3KH9xfF",
        "outputId": "6760cdde-1093-4506-9b28-e6aae3b0d8d6"
      },
      "execution_count": 23,
      "outputs": [
        {
          "output_type": "execute_result",
          "data": {
            "text/plain": [
              "{2, 3}"
            ]
          },
          "metadata": {},
          "execution_count": 23
        }
      ]
    },
    {
      "cell_type": "code",
      "source": [
        "# 21. Write a code to create a dictionary with the keys \"name\" ,\"age\", and \"city\".\n",
        "dict = {\"name\":\"soumita\",\"age\":27,\"city\":\"kolkata\"}\n",
        "print(dict)"
      ],
      "metadata": {
        "colab": {
          "base_uri": "https://localhost:8080/"
        },
        "id": "iEpU6e8M9xZp",
        "outputId": "22d3978d-2dd6-4d71-a06c-4eba397f9ee4"
      },
      "execution_count": 24,
      "outputs": [
        {
          "output_type": "stream",
          "name": "stdout",
          "text": [
            "{'name': 'soumita', 'age': 27, 'city': 'kolkata'}\n"
          ]
        }
      ]
    },
    {
      "cell_type": "code",
      "source": [
        "# 22. Write a code to add a new key_value pair \"country\":USA to the dictionary {'name':'john','age':25}\n",
        "dict2 = {'name':'john','age':25}\n",
        "new_items = {'country':'USA'}\n",
        "dict2.update(new_items)\n",
        "dict2"
      ],
      "metadata": {
        "colab": {
          "base_uri": "https://localhost:8080/"
        },
        "id": "Z41TXLhh_iaR",
        "outputId": "defe60a1-83a5-4602-d89b-99cc30d3fd12"
      },
      "execution_count": 28,
      "outputs": [
        {
          "output_type": "execute_result",
          "data": {
            "text/plain": [
              "{'name': 'john', 'age': 25, 'country': 'USA'}"
            ]
          },
          "metadata": {},
          "execution_count": 28
        }
      ]
    },
    {
      "cell_type": "code",
      "source": [
        "# 23. Write a code to access the value associated with the key name in the dictionary {'name':'Alice','age':30}\n",
        "my_dict={'name':'Alice','age':30}\n",
        "my_dict['name']"
      ],
      "metadata": {
        "colab": {
          "base_uri": "https://localhost:8080/",
          "height": 36
        },
        "id": "hQO3l7y9_iUA",
        "outputId": "0ba5c4c5-ec1b-4568-8bfa-2bf689f31248"
      },
      "execution_count": 29,
      "outputs": [
        {
          "output_type": "execute_result",
          "data": {
            "text/plain": [
              "'Alice'"
            ],
            "application/vnd.google.colaboratory.intrinsic+json": {
              "type": "string"
            }
          },
          "metadata": {},
          "execution_count": 29
        }
      ]
    },
    {
      "cell_type": "code",
      "source": [
        "# 24. Write a code to remove the key \"age\" from the dictionary {'name':'Bob','age':22,'city':'new york'}\n",
        "d ={\"name\":\"Bob\",\"age\":22,\"city\":\"new york\"}\n",
        "d.pop(\"age\")\n",
        "d"
      ],
      "metadata": {
        "colab": {
          "base_uri": "https://localhost:8080/"
        },
        "id": "c2xcwXpI_iON",
        "outputId": "f79732ec-739a-4499-921f-5d1c4bc3b0a3"
      },
      "execution_count": 36,
      "outputs": [
        {
          "output_type": "execute_result",
          "data": {
            "text/plain": [
              "{'name': 'Bob', 'city': 'new york'}"
            ]
          },
          "metadata": {},
          "execution_count": 36
        }
      ]
    },
    {
      "cell_type": "code",
      "source": [
        "# 25. Write a code to check if the key \"city\" exits in the dictioary. {\"name\":\"alice\",\"city\":\"Paris\"}\n",
        "my_dict2 = {\"name\":\"Alice\",\"city\":\"paris\"}\n",
        "\"city\" in my_dict2"
      ],
      "metadata": {
        "colab": {
          "base_uri": "https://localhost:8080/"
        },
        "id": "sbyDYrrcFYhP",
        "outputId": "a3f63a69-2ec9-4aab-8bd0-047f1c6ebc08"
      },
      "execution_count": 37,
      "outputs": [
        {
          "output_type": "execute_result",
          "data": {
            "text/plain": [
              "True"
            ]
          },
          "metadata": {},
          "execution_count": 37
        }
      ]
    },
    {
      "cell_type": "code",
      "source": [
        "# 26. Write a code to create a list, a tuple, and a dictionary and print them all.\n",
        "students =['Arun','Bijay','Ram']\n",
        "marks = [80,95,85]\n",
        "for i in zip(students,marks):\n",
        "  print(i)"
      ],
      "metadata": {
        "colab": {
          "base_uri": "https://localhost:8080/"
        },
        "id": "fbGgycQrFYb9",
        "outputId": "60d4551a-f735-4d21-f8ac-129f1d9e81b7"
      },
      "execution_count": 38,
      "outputs": [
        {
          "output_type": "stream",
          "name": "stdout",
          "text": [
            "('Arun', 80)\n",
            "('Bijay', 95)\n",
            "('Ram', 85)\n"
          ]
        }
      ]
    },
    {
      "cell_type": "code",
      "source": [
        "type(i)"
      ],
      "metadata": {
        "colab": {
          "base_uri": "https://localhost:8080/"
        },
        "id": "4Vp_v3KqH6-x",
        "outputId": "a6179fa8-181c-426e-88da-4c6b8dfd1a6d"
      },
      "execution_count": 39,
      "outputs": [
        {
          "output_type": "execute_result",
          "data": {
            "text/plain": [
              "tuple"
            ]
          },
          "metadata": {},
          "execution_count": 39
        }
      ]
    },
    {
      "cell_type": "code",
      "source": [
        "{student:marks for student, marks in zip(students,marks)}"
      ],
      "metadata": {
        "colab": {
          "base_uri": "https://localhost:8080/"
        },
        "id": "28LuIKI4H_tI",
        "outputId": "47a1f367-ba21-482d-e6c7-bf6f3bd00d8e"
      },
      "execution_count": 43,
      "outputs": [
        {
          "output_type": "execute_result",
          "data": {
            "text/plain": [
              "{'Arun': 80, 'Bijay': 95, 'Ram': 85}"
            ]
          },
          "metadata": {},
          "execution_count": 43
        }
      ]
    },
    {
      "cell_type": "code",
      "source": [
        "# 27. write a code to create a list of 5 random numbers between 1 and 100, sort it in ascending order and print the result.\n",
        "list1 = [75,66,98,25,36]\n",
        "list1.sort()\n",
        "list1"
      ],
      "metadata": {
        "colab": {
          "base_uri": "https://localhost:8080/"
        },
        "id": "bkj20bIPIoT0",
        "outputId": "f0898cfa-9629-472f-cd43-b268e6fb4d28"
      },
      "execution_count": 45,
      "outputs": [
        {
          "output_type": "execute_result",
          "data": {
            "text/plain": [
              "[25, 36, 66, 75, 98]"
            ]
          },
          "metadata": {},
          "execution_count": 45
        }
      ]
    },
    {
      "cell_type": "code",
      "source": [
        "# 28. Write a code to create a list with strings and print the element at the third index.\n",
        "my_shopping_list=['apple','banana','watermelon','mango','grapes']\n",
        "my_shopping_list.insert(3,\"lichi\")\n",
        "my_shopping_list"
      ],
      "metadata": {
        "colab": {
          "base_uri": "https://localhost:8080/"
        },
        "id": "FZ-dV5E-IoDe",
        "outputId": "ea03fbd6-6629-413f-94a2-0edcfbf913f7"
      },
      "execution_count": 46,
      "outputs": [
        {
          "output_type": "execute_result",
          "data": {
            "text/plain": [
              "['apple', 'banana', 'watermelon', 'lichi', 'mango', 'grapes']"
            ]
          },
          "metadata": {},
          "execution_count": 46
        }
      ]
    },
    {
      "cell_type": "code",
      "source": [
        "# 29. Write a code to combine two dictionaries into one and print the result.\n",
        "User_id ={1,2,3,4}\n",
        "User_name={'a','b','c','d'}\n",
        "{User_id: User_name for User_id,User_name in zip(User_id,User_name)}"
      ],
      "metadata": {
        "colab": {
          "base_uri": "https://localhost:8080/"
        },
        "id": "vjcsCVUIIn2S",
        "outputId": "6a4be724-5a4f-4563-deb9-7dd90acb803e"
      },
      "execution_count": 48,
      "outputs": [
        {
          "output_type": "execute_result",
          "data": {
            "text/plain": [
              "{1: 'a', 2: 'b', 3: 'd', 4: 'c'}"
            ]
          },
          "metadata": {},
          "execution_count": 48
        }
      ]
    },
    {
      "cell_type": "code",
      "source": [
        "# 30. Write a code to convert a list of string into a set.\n",
        "shopping_list=['potato','brinjal','cabbage','banana']\n",
        "type(shopping_list)"
      ],
      "metadata": {
        "colab": {
          "base_uri": "https://localhost:8080/"
        },
        "id": "QL9f1tYHLwnh",
        "outputId": "147563a6-1bb6-49e4-bdf4-1f22e4b79071"
      },
      "execution_count": 49,
      "outputs": [
        {
          "output_type": "execute_result",
          "data": {
            "text/plain": [
              "list"
            ]
          },
          "metadata": {},
          "execution_count": 49
        }
      ]
    },
    {
      "cell_type": "code",
      "source": [
        "a= set(shopping_list)\n",
        "a"
      ],
      "metadata": {
        "colab": {
          "base_uri": "https://localhost:8080/"
        },
        "id": "SBSJae2JMmZ6",
        "outputId": "6774c439-6f56-46c9-eba2-1f7147d8b56d"
      },
      "execution_count": 51,
      "outputs": [
        {
          "output_type": "execute_result",
          "data": {
            "text/plain": [
              "{'banana', 'brinjal', 'cabbage', 'potato'}"
            ]
          },
          "metadata": {},
          "execution_count": 51
        }
      ]
    }
  ]
}